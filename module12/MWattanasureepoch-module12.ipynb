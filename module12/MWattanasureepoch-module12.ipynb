{
 "cells": [
  {
   "cell_type": "markdown",
   "metadata": {},
   "source": [
    "# Assignment 12"
   ]
  },
  {
   "cell_type": "markdown",
   "metadata": {},
   "source": [
    "## Creating Web APIs with Flask"
   ]
  },
  {
   "cell_type": "code",
   "execution_count": 132,
   "metadata": {},
   "outputs": [],
   "source": [
    "import requests\n",
    "import json"
   ]
  },
  {
   "cell_type": "markdown",
   "metadata": {},
   "source": [
    "## 1.\t(10 points) Using the POST route, extract the data from 3 Wikipedia pages: Data Engineering and two other topics of your choice. "
   ]
  },
  {
   "cell_type": "code",
   "execution_count": 138,
   "metadata": {},
   "outputs": [
    {
     "name": "stdout",
     "output_type": "stream",
     "text": [
      "Response Status Code: 200\n",
      "Response Content: {'Content': ['b\\'<!DOCTYPE html>\\\\n<html class=\"client-nojs vector-feature-language-in-header-enabled vector-feature-la\\''], 'Num_Links': [338], 'Title': ['Data engineering - Wikipedia'], 'Topic': ['Data_engineering']}\n",
      "Response Status Code: 200\n",
      "Response Content: {'Content': ['b\\'<!DOCTYPE html>\\\\n<html class=\"client-nojs vector-feature-language-in-header-enabled vector-feature-la\\''], 'Num_Links': [3837], 'Title': ['Switzerland - Wikipedia'], 'Topic': ['Switzerland']}\n",
      "Response Status Code: 200\n",
      "Response Content: {'Content': ['b\\'<!DOCTYPE html>\\\\n<html class=\"client-nojs vector-feature-language-in-header-enabled vector-feature-la\\''], 'Num_Links': [5778], 'Title': ['France - Wikipedia'], 'Topic': ['France']}\n"
     ]
    }
   ],
   "source": [
    "### Sending a POST request\n",
    "\n",
    "# Set the API endpoint URL\n",
    "url = 'http://localhost:8001/api/add_topic'\n",
    "\n",
    "# Set the request headers\n",
    "headers = {\n",
    "    'Content-Type': 'application/json'\n",
    "}\n",
    "\n",
    "# Set the request data\n",
    "topics = ['Data_engineering', 'Switzerland','France']\n",
    "\n",
    "for topic in topics:\n",
    "    data = {\n",
    "        'topic': topic\n",
    "    }\n",
    "\n",
    "    # Send the POST request to the API endpoint\n",
    "    response = requests.post(url, headers=headers, json=data)\n",
    "\n",
    "    # Print the response status code and content\n",
    "    print('Response Status Code:', response.status_code)\n",
    "    print('Response Content:', json.loads(response.content))"
   ]
  },
  {
   "cell_type": "markdown",
   "metadata": {},
   "source": [
    "## 2.\t(10 points) Use the DELETE route to delete one of the topics "
   ]
  },
  {
   "cell_type": "code",
   "execution_count": 139,
   "metadata": {},
   "outputs": [
    {
     "name": "stdout",
     "output_type": "stream",
     "text": [
      "Response Status Code: 200\n",
      "Response Content: {\"Topic\":{\"1\":\"Switzerland\",\"2\":\"France\"},\"Content\":{\"1\":\"b'<!DOCTYPE html>\\\\n<html class=\\\"client-nojs vector-feature-language-in-header-enabled vector-feature-la'\",\"2\":\"b'<!DOCTYPE html>\\\\n<html class=\\\"client-nojs vector-feature-language-in-header-enabled vector-feature-la'\"},\"Title\":{\"1\":\"Switzerland - Wikipedia\",\"2\":\"France - Wikipedia\"},\"Num_Links\":{\"1\":3837,\"2\":5778}}\n"
     ]
    }
   ],
   "source": [
    "#### Sending a DELETE Request\n",
    "\n",
    "# Set the API endpoint URL\n",
    "url = 'http://localhost:8001/api/del_topic'\n",
    "\n",
    "# Set the request headers\n",
    "headers = {\n",
    "    'Content-Type': 'application/json'\n",
    "}\n",
    "\n",
    "# Set the request data\n",
    "data = {\n",
    "    'topic': 'Data_engineering'\n",
    "}\n",
    "\n",
    "# Send the POST request to the API endpoint\n",
    "response = requests.delete(url, headers=headers, json=data)\n",
    "\n",
    "# Print the response status code and content\n",
    "print('Response Status Code:', response.status_code)\n",
    "print('Response Content:', json.loads(response.content))"
   ]
  },
  {
   "cell_type": "markdown",
   "metadata": {},
   "source": [
    "## 3.\t(10 points) Use the PUT route to update the number of links for a single topic to “99999”"
   ]
  },
  {
   "cell_type": "code",
   "execution_count": 140,
   "metadata": {},
   "outputs": [
    {
     "name": "stdout",
     "output_type": "stream",
     "text": [
      "Response Status Code: 200\n",
      "Response Content: {\"Topic\":{\"1\":\"Switzerland\",\"2\":\"France\"},\"Content\":{\"1\":\"b'<!DOCTYPE html>\\\\n<html class=\\\"client-nojs vector-feature-language-in-header-enabled vector-feature-la'\",\"2\":\"b'<!DOCTYPE html>\\\\n<html class=\\\"client-nojs vector-feature-language-in-header-enabled vector-feature-la'\"},\"Title\":{\"1\":\"Switzerland - Wikipedia\",\"2\":\"France - Wikipedia\"},\"Num_Links\":{\"1\":\"99999\",\"2\":5778}}\n"
     ]
    }
   ],
   "source": [
    "#### Sending a PUT Request\n",
    "\n",
    "# Set the API endpoint URL\n",
    "url = 'http://localhost:8001/api/update_topic'\n",
    "\n",
    "# Set the request headers\n",
    "headers = {\n",
    "    'Content-Type': 'application/json'\n",
    "}\n",
    "\n",
    "# Set the request data\n",
    "data = {\n",
    "    \"topic\": \"Switzerland\",\n",
    "    \"title\": \"\",\n",
    "    \"content\": \"\",\n",
    "    \"num_links\": \"99999\"\n",
    "          }\n",
    "\n",
    "\n",
    "# Send the PUT request to the API endpoint\n",
    "response = requests.put(url, headers=headers, json=data)\n",
    "\n",
    "# Print the response status code and content\n",
    "print('Response Status Code:', response.status_code)\n",
    "print('Response Content:', json.loads(response.content))"
   ]
  },
  {
   "cell_type": "markdown",
   "metadata": {},
   "source": [
    "## 4.\t(10 points) Use the route you chose from the previous step 4 to save the remaining two topics to a MongoDB collection"
   ]
  },
  {
   "cell_type": "code",
   "execution_count": 141,
   "metadata": {},
   "outputs": [
    {
     "name": "stdout",
     "output_type": "stream",
     "text": [
      "Response Status Code: 200\n",
      "Response Content: {'message': 'Records Inserted to DB'}\n"
     ]
    }
   ],
   "source": [
    "#### Sending a Save to DB Request\n",
    "\n",
    "# Set the API endpoint URL\n",
    "url = 'http://localhost:8001/api/save_topic'\n",
    "\n",
    "# Set the request headers\n",
    "headers = {\n",
    "    'Content-Type': 'application/json'\n",
    "}\n",
    "\n",
    "# Send the PUT request to the API endpoint\n",
    "response = requests.put(url, headers=headers)\n",
    "\n",
    "# Print the response status code and content\n",
    "print('Response Status Code:', response.status_code)\n",
    "print('Response Content:', json.loads(response.content))"
   ]
  },
  {
   "cell_type": "markdown",
   "metadata": {},
   "source": [
    "## 5.\t(10 points) Use the GET route to return all of the data stored in your MongoDB collection"
   ]
  },
  {
   "cell_type": "code",
   "execution_count": 142,
   "metadata": {},
   "outputs": [
    {
     "name": "stdout",
     "output_type": "stream",
     "text": [
      "Response Status Code: 200\n",
      "[{\"_id\": \"644809ef21e8b87b8f580881\", \"Topic\": \"Switzerland\", \"Content\": \"b'<!DOCTYPE html>\\\\n<html class=\\\"client-nojs vector-feature-language-in-header-enabled vector-feature-la'\", \"Title\": \"Switzerland - Wikipedia\", \"Num_Links\": \"99999\"}, {\"_id\": \"644809ef21e8b87b8f580882\", \"Topic\": \"France\", \"Content\": \"b'<!DOCTYPE html>\\\\n<html class=\\\"client-nojs vector-feature-language-in-header-enabled vector-feature-la'\", \"Title\": \"France - Wikipedia\", \"Num_Links\": 5778}]\n"
     ]
    }
   ],
   "source": [
    "### Sending a GET request\n",
    "\n",
    "# Set the API endpoint URL\n",
    "url = 'http://localhost:8001/api/get_topic'\n",
    "\n",
    "# Send the GET request to the API endpoint\n",
    "response = requests.get(url)\n",
    "\n",
    "# Print the response status code and content\n",
    "print('Response Status Code:', response.status_code)\n",
    "print(json.loads(response.content))"
   ]
  },
  {
   "cell_type": "code",
   "execution_count": null,
   "metadata": {},
   "outputs": [],
   "source": []
  }
 ],
 "metadata": {
  "kernelspec": {
   "display_name": "Python 3 (ipykernel)",
   "language": "python",
   "name": "python3"
  },
  "language_info": {
   "codemirror_mode": {
    "name": "ipython",
    "version": 3
   },
   "file_extension": ".py",
   "mimetype": "text/x-python",
   "name": "python",
   "nbconvert_exporter": "python",
   "pygments_lexer": "ipython3",
   "version": "3.10.9"
  }
 },
 "nbformat": 4,
 "nbformat_minor": 4
}
