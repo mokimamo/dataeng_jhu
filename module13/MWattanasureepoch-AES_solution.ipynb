{
 "cells": [
  {
   "cell_type": "markdown",
   "id": "a2e9fc71-285e-41f7-8bce-d377b6257f93",
   "metadata": {
    "tags": []
   },
   "source": [
    "# References\n",
    "## pip3 install pycryptodome\n",
    "## https://pycryptodome.readthedocs.io/en/latest/src/cipher/aes.html\n",
    "### Using pycryptodome package for AES decryption\n",
    "##### Read Key, Nonce as binary and then set up key with AES MODE_EAX.\n",
    "##### Read Message as binary and then decrypt the encrypted message with decrypt function."
   ]
  },
  {
   "cell_type": "code",
   "execution_count": 29,
   "id": "18153a6a-f747-483c-9c21-aad0bd1d34e6",
   "metadata": {},
   "outputs": [],
   "source": [
    "from Crypto.Cipher import AES"
   ]
  },
  {
   "cell_type": "code",
   "execution_count": 30,
   "id": "a02ef0ca-27a7-4e2d-bc66-a4bda188b297",
   "metadata": {},
   "outputs": [
    {
     "name": "stdout",
     "output_type": "stream",
     "text": [
      "Encrypted Message: b\"\\x16\\x00\\x18Wg\\x15\\xf6\\xd3\\xfa\\x0fM\\xce\\xd4\\xe4d\\x8ak\\x91V\\xbc\\x80-D\\xf1\\xd5\\xe5b>\\xec\\x14\\xff\\xc662'\\xe54\\x0fqw@\\xaar\\xbd\\xe3yP\\xa54\"\n",
      "Key: b'\\t\\xc5\\xa5\\xbd\\xd4\\x89H\\xfa\\x91\\xedp\\x17N\\x07-\\x1f'\n",
      "Nonce: b'RVsW\\xd5A\\xea\\x0c^\\xd4z\\xb7\\x02O8\\xf2'\n"
     ]
    }
   ],
   "source": [
    "# Open the binary file for reading\n",
    "with open('data/AES/encrypted_message.bin', 'rb') as f:\n",
    "    encrypted_message = f.read()\n",
    "with open('data/AES/key.bin', 'rb') as f:\n",
    "    key = f.read()\n",
    "with open('data/AES/nonce.bin', 'rb') as f:\n",
    "    nonce = f.read()\n",
    "\n",
    "print('Encrypted Message:',encrypted_message)\n",
    "print('Key:', key)\n",
    "print('Nonce:',nonce)"
   ]
  },
  {
   "cell_type": "code",
   "execution_count": 31,
   "id": "b40ab51b-d8da-4110-950a-53e5f71b62e8",
   "metadata": {},
   "outputs": [
    {
     "name": "stdout",
     "output_type": "stream",
     "text": [
      "b'We are at Module 13 - only one more module to go!'\n"
     ]
    }
   ],
   "source": [
    "# Decrypt the message\n",
    "cipher = AES.new(key, AES.MODE_EAX, nonce=nonce)\n",
    "dec_message = cipher.decrypt(encrypted_message)\n",
    "print(dec_message)"
   ]
  },
  {
   "cell_type": "code",
   "execution_count": null,
   "id": "738f3bf9-c303-4fab-a2ef-884df5dd57ae",
   "metadata": {},
   "outputs": [],
   "source": []
  }
 ],
 "metadata": {
  "kernelspec": {
   "display_name": "Python 3 (ipykernel)",
   "language": "python",
   "name": "python3"
  },
  "language_info": {
   "codemirror_mode": {
    "name": "ipython",
    "version": 3
   },
   "file_extension": ".py",
   "mimetype": "text/x-python",
   "name": "python",
   "nbconvert_exporter": "python",
   "pygments_lexer": "ipython3",
   "version": "3.10.9"
  }
 },
 "nbformat": 4,
 "nbformat_minor": 5
}
