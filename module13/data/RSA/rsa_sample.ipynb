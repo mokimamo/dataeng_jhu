{
 "cells": [
  {
   "cell_type": "markdown",
   "id": "716f7109-0aaf-4817-8208-81be7d361d30",
   "metadata": {},
   "source": [
    "##https://www.section.io/engineering-education/rsa-encryption-and-decryption-in-python/"
   ]
  },
  {
   "cell_type": "code",
   "execution_count": 2,
   "id": "4ecad4b7-6f62-40d9-8865-f4c062b97f42",
   "metadata": {},
   "outputs": [],
   "source": [
    "import rsa"
   ]
  },
  {
   "cell_type": "code",
   "execution_count": 5,
   "id": "e08796fa-e12d-4a70-b004-11973a80c4fd",
   "metadata": {},
   "outputs": [],
   "source": [
    "def generateKeys():\n",
    "    (publicKey, privateKey) = rsa.newkeys(1024)\n",
    "    with open('keys/publcKey.pem', 'wb') as p:\n",
    "        p.write(publicKey.save_pkcs1('PEM'))\n",
    "    with open('keys/privateKey.pem', 'wb') as p:\n",
    "        p.write(privateKey.save_pkcs1('PEM'))\n",
    "\n",
    "def loadKeys():\n",
    "    with open('keys/publicKey.pem', 'rb') as p:\n",
    "        publicKey = rsa.PublicKey.load_pkcs1(p.read())\n",
    "    with open('keys/privateKey.pem', 'rb') as p:\n",
    "        privateKey = rsa.PrivateKey.load_pkcs1(p.read())\n",
    "    return privateKey, publicKey\n",
    "\n",
    "def encrypt(message, key):\n",
    "    return rsa.encrypt(message.encode('ascii'), key)\n",
    "\n",
    "def decrypt(ciphertext, key):\n",
    "    try:\n",
    "        return rsa.decrypt(ciphertext, key).decode('ascii')\n",
    "    except:\n",
    "        return False\n",
    "    \n",
    "def sign(message, key):\n",
    "    return rsa.sign(message.encode('ascii'), key, 'SHA-1')\n",
    "\n",
    "def verify(message, signature, key):\n",
    "    try:\n",
    "        return rsa.verify(message.encode('ascii'), signature, key,) == 'SHA-1'\n",
    "    except:\n",
    "        return False"
   ]
  },
  {
   "cell_type": "code",
   "execution_count": 6,
   "id": "6c201c5b-c2bb-409d-b9b9-2900316556ef",
   "metadata": {},
   "outputs": [
    {
     "ename": "FileNotFoundError",
     "evalue": "[Errno 2] No such file or directory: 'keys/publcKey.pem'",
     "output_type": "error",
     "traceback": [
      "\u001b[0;31m---------------------------------------------------------------------------\u001b[0m",
      "\u001b[0;31mFileNotFoundError\u001b[0m                         Traceback (most recent call last)",
      "Cell \u001b[0;32mIn[6], line 1\u001b[0m\n\u001b[0;32m----> 1\u001b[0m \u001b[43mgenerateKeys\u001b[49m\u001b[43m(\u001b[49m\u001b[43m)\u001b[49m\n\u001b[1;32m      2\u001b[0m publicKey, privateKey \u001b[38;5;241m=\u001b[39mload_keys()\n",
      "Cell \u001b[0;32mIn[5], line 3\u001b[0m, in \u001b[0;36mgenerateKeys\u001b[0;34m()\u001b[0m\n\u001b[1;32m      1\u001b[0m \u001b[38;5;28;01mdef\u001b[39;00m \u001b[38;5;21mgenerateKeys\u001b[39m():\n\u001b[1;32m      2\u001b[0m     (publicKey, privateKey) \u001b[38;5;241m=\u001b[39m rsa\u001b[38;5;241m.\u001b[39mnewkeys(\u001b[38;5;241m1024\u001b[39m)\n\u001b[0;32m----> 3\u001b[0m     \u001b[38;5;28;01mwith\u001b[39;00m \u001b[38;5;28;43mopen\u001b[39;49m\u001b[43m(\u001b[49m\u001b[38;5;124;43m'\u001b[39;49m\u001b[38;5;124;43mkeys/publcKey.pem\u001b[39;49m\u001b[38;5;124;43m'\u001b[39;49m\u001b[43m,\u001b[49m\u001b[43m \u001b[49m\u001b[38;5;124;43m'\u001b[39;49m\u001b[38;5;124;43mwb\u001b[39;49m\u001b[38;5;124;43m'\u001b[39;49m\u001b[43m)\u001b[49m \u001b[38;5;28;01mas\u001b[39;00m p:\n\u001b[1;32m      4\u001b[0m         p\u001b[38;5;241m.\u001b[39mwrite(publicKey\u001b[38;5;241m.\u001b[39msave_pkcs1(\u001b[38;5;124m'\u001b[39m\u001b[38;5;124mPEM\u001b[39m\u001b[38;5;124m'\u001b[39m))\n\u001b[1;32m      5\u001b[0m     \u001b[38;5;28;01mwith\u001b[39;00m \u001b[38;5;28mopen\u001b[39m(\u001b[38;5;124m'\u001b[39m\u001b[38;5;124mkeys/privateKey.pem\u001b[39m\u001b[38;5;124m'\u001b[39m, \u001b[38;5;124m'\u001b[39m\u001b[38;5;124mwb\u001b[39m\u001b[38;5;124m'\u001b[39m) \u001b[38;5;28;01mas\u001b[39;00m p:\n",
      "File \u001b[0;32m~/anaconda3/lib/python3.10/site-packages/IPython/core/interactiveshell.py:282\u001b[0m, in \u001b[0;36m_modified_open\u001b[0;34m(file, *args, **kwargs)\u001b[0m\n\u001b[1;32m    275\u001b[0m \u001b[38;5;28;01mif\u001b[39;00m file \u001b[38;5;129;01min\u001b[39;00m {\u001b[38;5;241m0\u001b[39m, \u001b[38;5;241m1\u001b[39m, \u001b[38;5;241m2\u001b[39m}:\n\u001b[1;32m    276\u001b[0m     \u001b[38;5;28;01mraise\u001b[39;00m \u001b[38;5;167;01mValueError\u001b[39;00m(\n\u001b[1;32m    277\u001b[0m         \u001b[38;5;124mf\u001b[39m\u001b[38;5;124m\"\u001b[39m\u001b[38;5;124mIPython won\u001b[39m\u001b[38;5;124m'\u001b[39m\u001b[38;5;124mt let you open fd=\u001b[39m\u001b[38;5;132;01m{\u001b[39;00mfile\u001b[38;5;132;01m}\u001b[39;00m\u001b[38;5;124m by default \u001b[39m\u001b[38;5;124m\"\u001b[39m\n\u001b[1;32m    278\u001b[0m         \u001b[38;5;124m\"\u001b[39m\u001b[38;5;124mas it is likely to crash IPython. If you know what you are doing, \u001b[39m\u001b[38;5;124m\"\u001b[39m\n\u001b[1;32m    279\u001b[0m         \u001b[38;5;124m\"\u001b[39m\u001b[38;5;124myou can use builtins\u001b[39m\u001b[38;5;124m'\u001b[39m\u001b[38;5;124m open.\u001b[39m\u001b[38;5;124m\"\u001b[39m\n\u001b[1;32m    280\u001b[0m     )\n\u001b[0;32m--> 282\u001b[0m \u001b[38;5;28;01mreturn\u001b[39;00m \u001b[43mio_open\u001b[49m\u001b[43m(\u001b[49m\u001b[43mfile\u001b[49m\u001b[43m,\u001b[49m\u001b[43m \u001b[49m\u001b[38;5;241;43m*\u001b[39;49m\u001b[43margs\u001b[49m\u001b[43m,\u001b[49m\u001b[43m \u001b[49m\u001b[38;5;241;43m*\u001b[39;49m\u001b[38;5;241;43m*\u001b[39;49m\u001b[43mkwargs\u001b[49m\u001b[43m)\u001b[49m\n",
      "\u001b[0;31mFileNotFoundError\u001b[0m: [Errno 2] No such file or directory: 'keys/publcKey.pem'"
     ]
    }
   ],
   "source": [
    "generateKeys()\n",
    "publicKey, privateKey =load_keys()"
   ]
  },
  {
   "cell_type": "code",
   "execution_count": null,
   "id": "caae4ca8-2d39-4045-b7b1-aca74b6ab89f",
   "metadata": {},
   "outputs": [],
   "source": [
    "message = input('Write your message here:')\n",
    "ciphertext = encrypt(message, publicKey)"
   ]
  },
  {
   "cell_type": "code",
   "execution_count": null,
   "id": "fee892b9-3f19-4889-9010-ed3ca7191f02",
   "metadata": {},
   "outputs": [],
   "source": [
    "signature = sign(message, privateKey)"
   ]
  },
  {
   "cell_type": "code",
   "execution_count": null,
   "id": "a10c01a7-a6c8-4551-98e6-d6c24fd47fb9",
   "metadata": {},
   "outputs": [],
   "source": [
    "text = decrypt(ciphertext, privateKey)"
   ]
  },
  {
   "cell_type": "code",
   "execution_count": null,
   "id": "8f7e40d9-e5b3-436c-96f3-43865367e8f7",
   "metadata": {},
   "outputs": [],
   "source": [
    "print(f'Cipher text: {ciphertext}')\n",
    "print(f'Signature: {signature}')"
   ]
  },
  {
   "cell_type": "code",
   "execution_count": null,
   "id": "ae386309-8875-4610-8355-cb27eae8ef6d",
   "metadata": {},
   "outputs": [],
   "source": [
    "if text:\n",
    "    print(f'Message text: {text}')\n",
    "else:\n",
    "    print(f'Unable to decrypt the message.')"
   ]
  },
  {
   "cell_type": "code",
   "execution_count": null,
   "id": "33846900-d230-40d1-9a8e-4c3b4b3ab7b2",
   "metadata": {},
   "outputs": [],
   "source": [
    "if verify(text, signature, publicKey):\n",
    "    print(Successfully verified signature)\n",
    "else:\n",
    "    print('The message signature could not be verified')"
   ]
  }
 ],
 "metadata": {
  "kernelspec": {
   "display_name": "Python 3 (ipykernel)",
   "language": "python",
   "name": "python3"
  },
  "language_info": {
   "codemirror_mode": {
    "name": "ipython",
    "version": 3
   },
   "file_extension": ".py",
   "mimetype": "text/x-python",
   "name": "python",
   "nbconvert_exporter": "python",
   "pygments_lexer": "ipython3",
   "version": "3.10.9"
  }
 },
 "nbformat": 4,
 "nbformat_minor": 5
}
